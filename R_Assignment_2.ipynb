{
  "nbformat": 4,
  "nbformat_minor": 0,
  "metadata": {
    "colab": {
      "provenance": [],
      "authorship_tag": "ABX9TyPTypuTnNP1ThsPqArw5qEo",
      "include_colab_link": true
    },
    "kernelspec": {
      "name": "ir",
      "display_name": "R"
    },
    "language_info": {
      "name": "R"
    }
  },
  "cells": [
    {
      "cell_type": "markdown",
      "metadata": {
        "id": "view-in-github",
        "colab_type": "text"
      },
      "source": [
        "<a href=\"https://colab.research.google.com/github/ruturaj0626/R-Programming-in-Data-Science/blob/main/R_Assignment_2.ipynb\" target=\"_parent\"><img src=\"https://colab.research.google.com/assets/colab-badge.svg\" alt=\"Open In Colab\"/></a>"
      ]
    },
    {
      "cell_type": "markdown",
      "source": [
        "1. write a program to display multiplication table for given number ?"
      ],
      "metadata": {
        "id": "7e7xr0agsIf_"
      }
    },
    {
      "cell_type": "code",
      "source": [
        "num <- as.integer(readline(\"Enter the number\\n\"))\n",
        "\n",
        "# Print the multiplication table for the number\n",
        "\n",
        "cat(\"\\nMultiplication table for \", num, \":\\n\")\n",
        "for (i in 1:10) {\n",
        "  cat(num, \" x \", i, \" = \", num*i, \"\\n\")\n",
        "}"
      ],
      "metadata": {
        "colab": {
          "base_uri": "https://localhost:8080/"
        },
        "id": "lNliDraps0dm",
        "outputId": "9b17b0b8-708a-42b9-f943-b52b5670d446"
      },
      "execution_count": 64,
      "outputs": [
        {
          "output_type": "stream",
          "name": "stdout",
          "text": [
            "Enter the number\n",
            "55\n",
            "\n",
            "Multiplication table for  55 :\n",
            "55  x  1  =  55 \n",
            "55  x  2  =  110 \n",
            "55  x  3  =  165 \n",
            "55  x  4  =  220 \n",
            "55  x  5  =  275 \n",
            "55  x  6  =  330 \n",
            "55  x  7  =  385 \n",
            "55  x  8  =  440 \n",
            "55  x  9  =  495 \n",
            "55  x  10  =  550 \n"
          ]
        }
      ]
    },
    {
      "cell_type": "markdown",
      "source": [
        "-----------------------------------------------------------------"
      ],
      "metadata": {
        "id": "U-SSb-IrtRSW"
      }
    },
    {
      "cell_type": "markdown",
      "source": [
        "2. write a program to find the sum of first 20 even numbers."
      ],
      "metadata": {
        "id": "-na4DkC4t-f2"
      }
    },
    {
      "cell_type": "code",
      "source": [
        "sum_even <- 0\n",
        "i<- 1\n",
        "while(i<=20){\n",
        "  even <- i * 2\n",
        "  sum_even <- sum_even + even\n",
        "  i <- i + 1\n",
        "}\n",
        "cat(\"The sum of the first 20 even numbers is:\", sum_even)"
      ],
      "metadata": {
        "colab": {
          "base_uri": "https://localhost:8080/"
        },
        "id": "cSE9BWO_sYCr",
        "outputId": "390bc0ca-78af-412d-b766-eec8da2c2806"
      },
      "execution_count": 71,
      "outputs": [
        {
          "output_type": "stream",
          "name": "stdout",
          "text": [
            "The sum of the first 20 even numbers is: 420"
          ]
        }
      ]
    },
    {
      "cell_type": "markdown",
      "source": [
        "-----------------------------------------------------------------------------------------------"
      ],
      "metadata": {
        "id": "vqoKxdMNv0GM"
      }
    },
    {
      "cell_type": "markdown",
      "source": [
        "3. Wap to check the given number is Armstrong number or not"
      ],
      "metadata": {
        "id": "c_ahIbgyvzud"
      }
    },
    {
      "cell_type": "code",
      "source": [
        "n <- as.integer(readline(prompt=\"Enter a number: \"))\n",
        "\n",
        "num_digits <- nchar(n)\n",
        "\n",
        "sum <- 0\n",
        "\n",
        "for (digit in as.numeric(strsplit(as.character(n), \"\")[[1]])) {\n",
        "  sum <- sum + digit ^ num_digits  \n",
        "}\n",
        "\n",
        "if (sum == n) {\n",
        "  cat(n, \"is an Armstrong number.\")\n",
        "} else {\n",
        "  cat(n, \"is not an Armstrong number.\")\n",
        "}\n"
      ],
      "metadata": {
        "colab": {
          "base_uri": "https://localhost:8080/"
        },
        "id": "eOp874d8v0iV",
        "outputId": "622284e4-676d-46ca-dde6-4bb2a4873202"
      },
      "execution_count": 75,
      "outputs": [
        {
          "output_type": "stream",
          "name": "stdout",
          "text": [
            "Enter a number: 55\n",
            "55 is not an Armstrong number."
          ]
        }
      ]
    },
    {
      "cell_type": "markdown",
      "source": [
        "-----------------------------------------------------------------------------------------"
      ],
      "metadata": {
        "id": "GTGHyrQxwTgb"
      }
    },
    {
      "cell_type": "markdown",
      "source": [
        "4. Write a program to check the given number is palindrom or not?"
      ],
      "metadata": {
        "id": "kMQeZ4tEwTT8"
      }
    },
    {
      "cell_type": "code",
      "source": [
        "n <- as.integer(readline(prompt = \"Enter a number: \"))\n",
        "\n",
        "reversed_n <- 0\n",
        "\n",
        "temp_n <- n\n",
        "\n",
        "while (temp_n > 0) {\n",
        "  reversed_n <- reversed_n * 10 + temp_n %% 10\n",
        "  temp_n <- temp_n %/% 10\n",
        "}\n",
        "\n",
        "if (reversed_n == n) {\n",
        "  cat(n, \"is a palindrome.\")\n",
        "} else {\n",
        "  cat(n, \"is not a palindrome.\")\n",
        "}\n"
      ],
      "metadata": {
        "colab": {
          "base_uri": "https://localhost:8080/"
        },
        "id": "r5DY7tCdwJ3f",
        "outputId": "36566bc9-6b26-44fa-de28-ebbd18985e41"
      },
      "execution_count": 78,
      "outputs": [
        {
          "output_type": "stream",
          "name": "stdout",
          "text": [
            "Enter a number: 55\n",
            "55 is a palindrome."
          ]
        }
      ]
    }
  ]
}