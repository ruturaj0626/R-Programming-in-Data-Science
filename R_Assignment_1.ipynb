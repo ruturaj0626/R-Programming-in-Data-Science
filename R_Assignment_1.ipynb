{
  "nbformat": 4,
  "nbformat_minor": 0,
  "metadata": {
    "colab": {
      "provenance": [],
      "authorship_tag": "ABX9TyMUI2+DWiUuAlwbGuUpUbmF",
      "include_colab_link": true
    },
    "kernelspec": {
      "name": "ir",
      "display_name": "R"
    },
    "language_info": {
      "name": "R"
    }
  },
  "cells": [
    {
      "cell_type": "markdown",
      "metadata": {
        "id": "view-in-github",
        "colab_type": "text"
      },
      "source": [
        "<a href=\"https://colab.research.google.com/github/ruturaj0626/R-Programming-in-Data-Science/blob/main/R_Assignment_1.ipynb\" target=\"_parent\"><img src=\"https://colab.research.google.com/assets/colab-badge.svg\" alt=\"Open In Colab\"/></a>"
      ]
    },
    {
      "cell_type": "markdown",
      "source": [
        "\n",
        "WAP in R to get following output\n",
        "\n",
        "enter name :\n",
        "\n",
        "enter roll_no:\n",
        "\n",
        "enter marks for 5 subjects\n",
        "\n",
        "50 50 50 50 50\n",
        "\n",
        "---------------------------------\n",
        "\n",
        "hello amruta you scored\n",
        "\n",
        "total marks:250#\n",
        "\n",
        "per:50#\n",
        "\n",
        "grade:B\n",
        "\n",
        "Best wishes!\n"
      ],
      "metadata": {
        "id": "VNPOBt2kjnRq"
      }
    },
    {
      "cell_type": "code",
      "execution_count": 46,
      "metadata": {
        "colab": {
          "base_uri": "https://localhost:8080/"
        },
        "id": "u2933_1Jjdjk",
        "outputId": "992339c3-a1b5-4450-e68e-f03b0a8262b6"
      },
      "outputs": [
        {
          "name": "stdout",
          "output_type": "stream",
          "text": [
            "Enter name: Ruturaj\n",
            "Enter roll_no: 21\n"
          ]
        }
      ],
      "source": [
        "name <- readline(prompt=\"Enter name: \")\n",
        "roll_no <- readline(prompt=\"Enter roll_no: \")"
      ]
    },
    {
      "cell_type": "code",
      "source": [
        "j <- c('Maths','Science','History','Geography','English')\n",
        "\n",
        "marks <- numeric(length=5)\n",
        "for (i in 1:5) {\n",
        "  marks[i] <- as.numeric(readline(prompt=paste(\"Enter marks for \",j[i], \": \", sep=\"\")))\n",
        "}"
      ],
      "metadata": {
        "colab": {
          "base_uri": "https://localhost:8080/"
        },
        "id": "20O9a3dwj6uB",
        "outputId": "13811740-aac7-4fca-989d-9b2ebd6e2c94"
      },
      "execution_count": 47,
      "outputs": [
        {
          "name": "stdout",
          "output_type": "stream",
          "text": [
            "Enter marks for Maths: 49\n",
            "Enter marks for Science: 47\n",
            "Enter marks for History: 50\n",
            "Enter marks for Geography: 46\n",
            "Enter marks for English: 50\n"
          ]
        }
      ]
    },
    {
      "cell_type": "markdown",
      "source": [
        "75+: O, 60-74:A, 50-59:B, 40-49:C, 40: F"
      ],
      "metadata": {
        "id": "L5dWT10BoYVX"
      }
    },
    {
      "cell_type": "code",
      "source": [
        "total = sum(marks)\n",
        "precentage = total/5\n",
        "\n",
        "if (precentage >= 75){\n",
        "  grade <- \"O\"\n",
        "}else if (precentage >= 60){\n",
        "  grade <- \"A\"\n",
        "}else if (precentage >=50){\n",
        "  grade <- \"B\"\n",
        "}else if (precentage >=40){\n",
        "  grade <- \"C\"\n",
        "}else {\n",
        "  grade <- \"F\"\n",
        "}"
      ],
      "metadata": {
        "id": "PpSmT7RcoYFY"
      },
      "execution_count": 49,
      "outputs": []
    },
    {
      "cell_type": "code",
      "source": [
        "cat(\"Name: \", name, \"\\n\")\n",
        "cat(\"Roll No.: \", roll_no, \"\\n\")\n",
        "cat(\"Marks: \", marks, \"\\n\")\n",
        "cat(\"\\n---------------------------------\\n\")\n",
        "cat('\\nHey', name, 'you scored',sum(marks), '\\n\\nFrom Total of 250 marks from 5 subjects each for 50 marks')\n",
        "cat(\"\\n\\nYour Grade is,\",grade,'\\n\\n Best wishes!')"
      ],
      "metadata": {
        "colab": {
          "base_uri": "https://localhost:8080/"
        },
        "id": "GAF5p2AHlwKB",
        "outputId": "fee36f98-119e-49c4-bc4f-ee91442314bb"
      },
      "execution_count": 52,
      "outputs": [
        {
          "output_type": "stream",
          "name": "stdout",
          "text": [
            "Name:  Ruturaj \n",
            "Roll No.:  21 \n",
            "Marks:  49 47 50 46 50 \n",
            "\n",
            "---------------------------------\n",
            "\n",
            "Hey Ruturaj you scored 242 \n",
            "\n",
            "From Total of 250 marks from 5 subjects each for 50 marks\n",
            "\n",
            "Your Grade is, C \n",
            "\n",
            " Best wishes!"
          ]
        }
      ]
    },
    {
      "cell_type": "code",
      "source": [],
      "metadata": {
        "id": "cEB3F2HqqzvG"
      },
      "execution_count": null,
      "outputs": []
    }
  ]
}